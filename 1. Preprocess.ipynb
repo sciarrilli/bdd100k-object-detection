{
 "cells": [
  {
   "cell_type": "markdown",
   "id": "c1e0633c",
   "metadata": {},
   "source": [
    "# Preprocessing"
   ]
  },
  {
   "cell_type": "markdown",
   "id": "2b494938",
   "metadata": {},
   "source": [
    "Nick Sciarrilli <br>\n",
    "Comp 4449 <br>\n",
    "Midterm <br>\n",
    "02.02.2022"
   ]
  },
  {
   "cell_type": "code",
   "execution_count": 11,
   "id": "b6bf48e4",
   "metadata": {},
   "outputs": [],
   "source": [
    "import os\n",
    "import json\n",
    "from tqdm import tqdm"
   ]
  },
  {
   "cell_type": "markdown",
   "id": "e6af7986",
   "metadata": {},
   "source": [
    "The processing script involves reading in two json files, one for train and one for val which are provided with the bdd100k dataset. Each sample is then split into a separate json file and written to train and val folders."
   ]
  },
  {
   "cell_type": "code",
   "execution_count": 12,
   "id": "315517fb",
   "metadata": {},
   "outputs": [
    {
     "name": "stderr",
     "output_type": "stream",
     "text": [
      "100%|██████████| 69863/69863 [01:33<00:00, 747.27it/s]\n",
      "100%|██████████| 10000/10000 [00:13<00:00, 737.30it/s]\n"
     ]
    }
   ],
   "source": [
    "#\n",
    "#\n",
    "# PREPROCESS\n",
    "#\n",
    "#\n",
    "\n",
    "def load_json(f):\n",
    "    with open(f, 'r') as fp:\n",
    "        return json.load(fp)\n",
    "\n",
    "\n",
    "def save_json(obj, f, *args, **kwargs):\n",
    "    with open(f, 'w') as fp:\n",
    "        json.dump(obj, fp, *args, **kwargs)\n",
    "\n",
    "\n",
    "def split_json(path, dataset_type):\n",
    "    dirname = os.path.join(os.path.dirname(path), dataset_type)\n",
    "    os.makedirs(dirname, exist_ok=True)\n",
    "\n",
    "    labels = load_json(path)\n",
    "    for label in tqdm(labels):\n",
    "        name = label['name']\n",
    "        f = os.path.join(dirname, name.replace('.jpg', '.json'))\n",
    "        save_json(label, f, indent=4)\n",
    "\n",
    "\n",
    "root = 'data/bdd100k'\n",
    "\n",
    "train_labels = os.path.join(root, 'labels/bdd100k_labels_images_train.json')\n",
    "valid_labels = os.path.join(root, 'labels/bdd100k_labels_images_val.json')\n",
    "\n",
    "split_json(train_labels, 'train')\n",
    "split_json(valid_labels, 'val')"
   ]
  },
  {
   "cell_type": "code",
   "execution_count": null,
   "id": "8db907c5",
   "metadata": {},
   "outputs": [],
   "source": []
  }
 ],
 "metadata": {
  "kernelspec": {
   "display_name": "conda_pytorch_latest_p37",
   "language": "python",
   "name": "conda_pytorch_latest_p37"
  },
  "language_info": {
   "codemirror_mode": {
    "name": "ipython",
    "version": 3
   },
   "file_extension": ".py",
   "mimetype": "text/x-python",
   "name": "python",
   "nbconvert_exporter": "python",
   "pygments_lexer": "ipython3",
   "version": "3.7.12"
  }
 },
 "nbformat": 4,
 "nbformat_minor": 5
}
