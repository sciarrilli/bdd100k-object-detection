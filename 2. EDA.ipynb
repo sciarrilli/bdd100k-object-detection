{
 "cells": [
  {
   "cell_type": "markdown",
   "id": "37ad1429",
   "metadata": {},
   "source": [
    "# Exploratory Data Analysis"
   ]
  },
  {
   "cell_type": "markdown",
   "id": "162aabf5",
   "metadata": {},
   "source": [
    "Nick Sciarrilli <br>\n",
    "Comp 4449 <br>\n",
    "Midterm <br>\n",
    "02.02.2022"
   ]
  },
  {
   "cell_type": "markdown",
   "id": "ea470dc0",
   "metadata": {},
   "source": [
    "#### Berkeley DeepDrive \n",
    "\n",
    "The purpose of this notebook is to better understand the bdd100k dataset. I will randomly sample 10,000 images and we will look into the details of what are in the images.\n"
   ]
  },
  {
   "cell_type": "code",
   "execution_count": 1,
   "id": "b2551853",
   "metadata": {},
   "outputs": [],
   "source": [
    "import os\n",
    "import json\n",
    "import numpy as np\n",
    "import pandas as pd\n",
    "import matplotlib.pyplot as plt"
   ]
  },
  {
   "cell_type": "code",
   "execution_count": 2,
   "id": "2a2fbb92",
   "metadata": {},
   "outputs": [],
   "source": [
    "def load_json(f):\n",
    "    with open(f, 'r') as fp:\n",
    "        return json.load(fp)\n",
    "    \n",
    "root = 'data/bdd100k'\n",
    "\n",
    "# raw is a list with 10,000 json samples\n",
    "raw = load_json(os.path.join(root, 'labels/bdd100k_labels_images_train.json'))\n",
    "raw = list(np.random.choice(raw, size=10000, replace=False))"
   ]
  },
  {
   "cell_type": "code",
   "execution_count": 3,
   "id": "4dee1ff5",
   "metadata": {},
   "outputs": [
    {
     "data": {
      "text/html": [
       "<div>\n",
       "<style scoped>\n",
       "    .dataframe tbody tr th:only-of-type {\n",
       "        vertical-align: middle;\n",
       "    }\n",
       "\n",
       "    .dataframe tbody tr th {\n",
       "        vertical-align: top;\n",
       "    }\n",
       "\n",
       "    .dataframe thead th {\n",
       "        text-align: right;\n",
       "    }\n",
       "</style>\n",
       "<table border=\"1\" class=\"dataframe\">\n",
       "  <thead>\n",
       "    <tr style=\"text-align: right;\">\n",
       "      <th></th>\n",
       "      <th>name</th>\n",
       "      <th>attributes</th>\n",
       "      <th>labels</th>\n",
       "    </tr>\n",
       "  </thead>\n",
       "  <tbody>\n",
       "    <tr>\n",
       "      <th>0</th>\n",
       "      <td>098cff6f-dccb9e35.jpg</td>\n",
       "      <td>{'weather': 'overcast', 'scene': 'highway', 't...</td>\n",
       "      <td>[{'category': 'car', 'attributes': {'occluded'...</td>\n",
       "    </tr>\n",
       "    <tr>\n",
       "      <th>1</th>\n",
       "      <td>9097a21a-93970ff5.jpg</td>\n",
       "      <td>{'weather': 'clear', 'scene': 'highway', 'time...</td>\n",
       "      <td>[{'category': 'traffic sign', 'attributes': {'...</td>\n",
       "    </tr>\n",
       "    <tr>\n",
       "      <th>2</th>\n",
       "      <td>59ac6b47-8566de5b.jpg</td>\n",
       "      <td>{'weather': 'clear', 'scene': 'city street', '...</td>\n",
       "      <td>[{'category': 'traffic sign', 'attributes': {'...</td>\n",
       "    </tr>\n",
       "    <tr>\n",
       "      <th>3</th>\n",
       "      <td>35d108d2-54fd804c.jpg</td>\n",
       "      <td>{'weather': 'clear', 'scene': 'residential', '...</td>\n",
       "      <td>[{'category': 'car', 'attributes': {'occluded'...</td>\n",
       "    </tr>\n",
       "    <tr>\n",
       "      <th>4</th>\n",
       "      <td>4cd5b47f-92b9c7f8.jpg</td>\n",
       "      <td>{'weather': 'overcast', 'scene': 'highway', 't...</td>\n",
       "      <td>[{'category': 'car', 'attributes': {'occluded'...</td>\n",
       "    </tr>\n",
       "    <tr>\n",
       "      <th>...</th>\n",
       "      <td>...</td>\n",
       "      <td>...</td>\n",
       "      <td>...</td>\n",
       "    </tr>\n",
       "    <tr>\n",
       "      <th>9995</th>\n",
       "      <td>8e2122c7-a5b877ce.jpg</td>\n",
       "      <td>{'weather': 'clear', 'scene': 'city street', '...</td>\n",
       "      <td>[{'category': 'traffic sign', 'attributes': {'...</td>\n",
       "    </tr>\n",
       "    <tr>\n",
       "      <th>9996</th>\n",
       "      <td>24d630ed-0b727c03.jpg</td>\n",
       "      <td>{'weather': 'clear', 'scene': 'residential', '...</td>\n",
       "      <td>[{'category': 'car', 'attributes': {'occluded'...</td>\n",
       "    </tr>\n",
       "    <tr>\n",
       "      <th>9997</th>\n",
       "      <td>a8613042-e019523a.jpg</td>\n",
       "      <td>{'weather': 'clear', 'scene': 'highway', 'time...</td>\n",
       "      <td>[{'category': 'car', 'attributes': {'occluded'...</td>\n",
       "    </tr>\n",
       "    <tr>\n",
       "      <th>9998</th>\n",
       "      <td>a554178d-a07d9073.jpg</td>\n",
       "      <td>{'weather': 'clear', 'scene': 'highway', 'time...</td>\n",
       "      <td>[{'category': 'bus', 'attributes': {'occluded'...</td>\n",
       "    </tr>\n",
       "    <tr>\n",
       "      <th>9999</th>\n",
       "      <td>0c2a51f7-f9417ba1.jpg</td>\n",
       "      <td>{'weather': 'clear', 'scene': 'city street', '...</td>\n",
       "      <td>[{'category': 'car', 'attributes': {'occluded'...</td>\n",
       "    </tr>\n",
       "  </tbody>\n",
       "</table>\n",
       "<p>10000 rows × 3 columns</p>\n",
       "</div>"
      ],
      "text/plain": [
       "                       name  \\\n",
       "0     098cff6f-dccb9e35.jpg   \n",
       "1     9097a21a-93970ff5.jpg   \n",
       "2     59ac6b47-8566de5b.jpg   \n",
       "3     35d108d2-54fd804c.jpg   \n",
       "4     4cd5b47f-92b9c7f8.jpg   \n",
       "...                     ...   \n",
       "9995  8e2122c7-a5b877ce.jpg   \n",
       "9996  24d630ed-0b727c03.jpg   \n",
       "9997  a8613042-e019523a.jpg   \n",
       "9998  a554178d-a07d9073.jpg   \n",
       "9999  0c2a51f7-f9417ba1.jpg   \n",
       "\n",
       "                                             attributes  \\\n",
       "0     {'weather': 'overcast', 'scene': 'highway', 't...   \n",
       "1     {'weather': 'clear', 'scene': 'highway', 'time...   \n",
       "2     {'weather': 'clear', 'scene': 'city street', '...   \n",
       "3     {'weather': 'clear', 'scene': 'residential', '...   \n",
       "4     {'weather': 'overcast', 'scene': 'highway', 't...   \n",
       "...                                                 ...   \n",
       "9995  {'weather': 'clear', 'scene': 'city street', '...   \n",
       "9996  {'weather': 'clear', 'scene': 'residential', '...   \n",
       "9997  {'weather': 'clear', 'scene': 'highway', 'time...   \n",
       "9998  {'weather': 'clear', 'scene': 'highway', 'time...   \n",
       "9999  {'weather': 'clear', 'scene': 'city street', '...   \n",
       "\n",
       "                                                 labels  \n",
       "0     [{'category': 'car', 'attributes': {'occluded'...  \n",
       "1     [{'category': 'traffic sign', 'attributes': {'...  \n",
       "2     [{'category': 'traffic sign', 'attributes': {'...  \n",
       "3     [{'category': 'car', 'attributes': {'occluded'...  \n",
       "4     [{'category': 'car', 'attributes': {'occluded'...  \n",
       "...                                                 ...  \n",
       "9995  [{'category': 'traffic sign', 'attributes': {'...  \n",
       "9996  [{'category': 'car', 'attributes': {'occluded'...  \n",
       "9997  [{'category': 'car', 'attributes': {'occluded'...  \n",
       "9998  [{'category': 'bus', 'attributes': {'occluded'...  \n",
       "9999  [{'category': 'car', 'attributes': {'occluded'...  \n",
       "\n",
       "[10000 rows x 3 columns]"
      ]
     },
     "execution_count": 3,
     "metadata": {},
     "output_type": "execute_result"
    }
   ],
   "source": [
    "df = pd.DataFrame.from_dict(raw)\n",
    "\n",
    "df.drop(columns='timestamp', inplace=True)\n",
    "df"
   ]
  },
  {
   "cell_type": "code",
   "execution_count": 4,
   "id": "6524e986",
   "metadata": {},
   "outputs": [
    {
     "data": {
      "text/plain": [
       "dict"
      ]
     },
     "execution_count": 4,
     "metadata": {},
     "output_type": "execute_result"
    }
   ],
   "source": [
    "type(df.attributes.iloc[2])"
   ]
  },
  {
   "cell_type": "code",
   "execution_count": 5,
   "id": "021cf127",
   "metadata": {},
   "outputs": [
    {
     "data": {
      "text/html": [
       "<div>\n",
       "<style scoped>\n",
       "    .dataframe tbody tr th:only-of-type {\n",
       "        vertical-align: middle;\n",
       "    }\n",
       "\n",
       "    .dataframe tbody tr th {\n",
       "        vertical-align: top;\n",
       "    }\n",
       "\n",
       "    .dataframe thead th {\n",
       "        text-align: right;\n",
       "    }\n",
       "</style>\n",
       "<table border=\"1\" class=\"dataframe\">\n",
       "  <thead>\n",
       "    <tr style=\"text-align: right;\">\n",
       "      <th></th>\n",
       "      <th>weather</th>\n",
       "      <th>scene</th>\n",
       "      <th>timeofday</th>\n",
       "    </tr>\n",
       "  </thead>\n",
       "  <tbody>\n",
       "    <tr>\n",
       "      <th>0</th>\n",
       "      <td>overcast</td>\n",
       "      <td>highway</td>\n",
       "      <td>daytime</td>\n",
       "    </tr>\n",
       "    <tr>\n",
       "      <th>1</th>\n",
       "      <td>clear</td>\n",
       "      <td>highway</td>\n",
       "      <td>night</td>\n",
       "    </tr>\n",
       "    <tr>\n",
       "      <th>2</th>\n",
       "      <td>clear</td>\n",
       "      <td>city street</td>\n",
       "      <td>night</td>\n",
       "    </tr>\n",
       "    <tr>\n",
       "      <th>3</th>\n",
       "      <td>clear</td>\n",
       "      <td>residential</td>\n",
       "      <td>daytime</td>\n",
       "    </tr>\n",
       "    <tr>\n",
       "      <th>4</th>\n",
       "      <td>overcast</td>\n",
       "      <td>highway</td>\n",
       "      <td>daytime</td>\n",
       "    </tr>\n",
       "    <tr>\n",
       "      <th>...</th>\n",
       "      <td>...</td>\n",
       "      <td>...</td>\n",
       "      <td>...</td>\n",
       "    </tr>\n",
       "    <tr>\n",
       "      <th>9995</th>\n",
       "      <td>clear</td>\n",
       "      <td>city street</td>\n",
       "      <td>night</td>\n",
       "    </tr>\n",
       "    <tr>\n",
       "      <th>9996</th>\n",
       "      <td>clear</td>\n",
       "      <td>residential</td>\n",
       "      <td>daytime</td>\n",
       "    </tr>\n",
       "    <tr>\n",
       "      <th>9997</th>\n",
       "      <td>clear</td>\n",
       "      <td>highway</td>\n",
       "      <td>night</td>\n",
       "    </tr>\n",
       "    <tr>\n",
       "      <th>9998</th>\n",
       "      <td>clear</td>\n",
       "      <td>highway</td>\n",
       "      <td>night</td>\n",
       "    </tr>\n",
       "    <tr>\n",
       "      <th>9999</th>\n",
       "      <td>clear</td>\n",
       "      <td>city street</td>\n",
       "      <td>night</td>\n",
       "    </tr>\n",
       "  </tbody>\n",
       "</table>\n",
       "<p>10000 rows × 3 columns</p>\n",
       "</div>"
      ],
      "text/plain": [
       "       weather        scene timeofday\n",
       "0     overcast      highway   daytime\n",
       "1        clear      highway     night\n",
       "2        clear  city street     night\n",
       "3        clear  residential   daytime\n",
       "4     overcast      highway   daytime\n",
       "...        ...          ...       ...\n",
       "9995     clear  city street     night\n",
       "9996     clear  residential   daytime\n",
       "9997     clear      highway     night\n",
       "9998     clear      highway     night\n",
       "9999     clear  city street     night\n",
       "\n",
       "[10000 rows x 3 columns]"
      ]
     },
     "execution_count": 5,
     "metadata": {},
     "output_type": "execute_result"
    }
   ],
   "source": [
    "conditions = df.attributes.apply(pd.Series)\n",
    "conditions"
   ]
  },
  {
   "cell_type": "code",
   "execution_count": 6,
   "id": "6c7a088a",
   "metadata": {},
   "outputs": [
    {
     "data": {
      "text/html": [
       "<div>\n",
       "<style scoped>\n",
       "    .dataframe tbody tr th:only-of-type {\n",
       "        vertical-align: middle;\n",
       "    }\n",
       "\n",
       "    .dataframe tbody tr th {\n",
       "        vertical-align: top;\n",
       "    }\n",
       "\n",
       "    .dataframe thead th {\n",
       "        text-align: right;\n",
       "    }\n",
       "</style>\n",
       "<table border=\"1\" class=\"dataframe\">\n",
       "  <thead>\n",
       "    <tr style=\"text-align: right;\">\n",
       "      <th></th>\n",
       "      <th>name</th>\n",
       "      <th>labels</th>\n",
       "      <th>weather</th>\n",
       "      <th>scene</th>\n",
       "      <th>timeofday</th>\n",
       "    </tr>\n",
       "  </thead>\n",
       "  <tbody>\n",
       "    <tr>\n",
       "      <th>0</th>\n",
       "      <td>098cff6f-dccb9e35.jpg</td>\n",
       "      <td>[{'category': 'car', 'attributes': {'occluded'...</td>\n",
       "      <td>overcast</td>\n",
       "      <td>highway</td>\n",
       "      <td>daytime</td>\n",
       "    </tr>\n",
       "    <tr>\n",
       "      <th>1</th>\n",
       "      <td>9097a21a-93970ff5.jpg</td>\n",
       "      <td>[{'category': 'traffic sign', 'attributes': {'...</td>\n",
       "      <td>clear</td>\n",
       "      <td>highway</td>\n",
       "      <td>night</td>\n",
       "    </tr>\n",
       "    <tr>\n",
       "      <th>2</th>\n",
       "      <td>59ac6b47-8566de5b.jpg</td>\n",
       "      <td>[{'category': 'traffic sign', 'attributes': {'...</td>\n",
       "      <td>clear</td>\n",
       "      <td>city street</td>\n",
       "      <td>night</td>\n",
       "    </tr>\n",
       "    <tr>\n",
       "      <th>3</th>\n",
       "      <td>35d108d2-54fd804c.jpg</td>\n",
       "      <td>[{'category': 'car', 'attributes': {'occluded'...</td>\n",
       "      <td>clear</td>\n",
       "      <td>residential</td>\n",
       "      <td>daytime</td>\n",
       "    </tr>\n",
       "    <tr>\n",
       "      <th>4</th>\n",
       "      <td>4cd5b47f-92b9c7f8.jpg</td>\n",
       "      <td>[{'category': 'car', 'attributes': {'occluded'...</td>\n",
       "      <td>overcast</td>\n",
       "      <td>highway</td>\n",
       "      <td>daytime</td>\n",
       "    </tr>\n",
       "    <tr>\n",
       "      <th>...</th>\n",
       "      <td>...</td>\n",
       "      <td>...</td>\n",
       "      <td>...</td>\n",
       "      <td>...</td>\n",
       "      <td>...</td>\n",
       "    </tr>\n",
       "    <tr>\n",
       "      <th>9995</th>\n",
       "      <td>8e2122c7-a5b877ce.jpg</td>\n",
       "      <td>[{'category': 'traffic sign', 'attributes': {'...</td>\n",
       "      <td>clear</td>\n",
       "      <td>city street</td>\n",
       "      <td>night</td>\n",
       "    </tr>\n",
       "    <tr>\n",
       "      <th>9996</th>\n",
       "      <td>24d630ed-0b727c03.jpg</td>\n",
       "      <td>[{'category': 'car', 'attributes': {'occluded'...</td>\n",
       "      <td>clear</td>\n",
       "      <td>residential</td>\n",
       "      <td>daytime</td>\n",
       "    </tr>\n",
       "    <tr>\n",
       "      <th>9997</th>\n",
       "      <td>a8613042-e019523a.jpg</td>\n",
       "      <td>[{'category': 'car', 'attributes': {'occluded'...</td>\n",
       "      <td>clear</td>\n",
       "      <td>highway</td>\n",
       "      <td>night</td>\n",
       "    </tr>\n",
       "    <tr>\n",
       "      <th>9998</th>\n",
       "      <td>a554178d-a07d9073.jpg</td>\n",
       "      <td>[{'category': 'bus', 'attributes': {'occluded'...</td>\n",
       "      <td>clear</td>\n",
       "      <td>highway</td>\n",
       "      <td>night</td>\n",
       "    </tr>\n",
       "    <tr>\n",
       "      <th>9999</th>\n",
       "      <td>0c2a51f7-f9417ba1.jpg</td>\n",
       "      <td>[{'category': 'car', 'attributes': {'occluded'...</td>\n",
       "      <td>clear</td>\n",
       "      <td>city street</td>\n",
       "      <td>night</td>\n",
       "    </tr>\n",
       "  </tbody>\n",
       "</table>\n",
       "<p>10000 rows × 5 columns</p>\n",
       "</div>"
      ],
      "text/plain": [
       "                       name  \\\n",
       "0     098cff6f-dccb9e35.jpg   \n",
       "1     9097a21a-93970ff5.jpg   \n",
       "2     59ac6b47-8566de5b.jpg   \n",
       "3     35d108d2-54fd804c.jpg   \n",
       "4     4cd5b47f-92b9c7f8.jpg   \n",
       "...                     ...   \n",
       "9995  8e2122c7-a5b877ce.jpg   \n",
       "9996  24d630ed-0b727c03.jpg   \n",
       "9997  a8613042-e019523a.jpg   \n",
       "9998  a554178d-a07d9073.jpg   \n",
       "9999  0c2a51f7-f9417ba1.jpg   \n",
       "\n",
       "                                                 labels   weather  \\\n",
       "0     [{'category': 'car', 'attributes': {'occluded'...  overcast   \n",
       "1     [{'category': 'traffic sign', 'attributes': {'...     clear   \n",
       "2     [{'category': 'traffic sign', 'attributes': {'...     clear   \n",
       "3     [{'category': 'car', 'attributes': {'occluded'...     clear   \n",
       "4     [{'category': 'car', 'attributes': {'occluded'...  overcast   \n",
       "...                                                 ...       ...   \n",
       "9995  [{'category': 'traffic sign', 'attributes': {'...     clear   \n",
       "9996  [{'category': 'car', 'attributes': {'occluded'...     clear   \n",
       "9997  [{'category': 'car', 'attributes': {'occluded'...     clear   \n",
       "9998  [{'category': 'bus', 'attributes': {'occluded'...     clear   \n",
       "9999  [{'category': 'car', 'attributes': {'occluded'...     clear   \n",
       "\n",
       "            scene timeofday  \n",
       "0         highway   daytime  \n",
       "1         highway     night  \n",
       "2     city street     night  \n",
       "3     residential   daytime  \n",
       "4         highway   daytime  \n",
       "...           ...       ...  \n",
       "9995  city street     night  \n",
       "9996  residential   daytime  \n",
       "9997      highway     night  \n",
       "9998      highway     night  \n",
       "9999  city street     night  \n",
       "\n",
       "[10000 rows x 5 columns]"
      ]
     },
     "execution_count": 6,
     "metadata": {},
     "output_type": "execute_result"
    }
   ],
   "source": [
    "df = pd.concat([df, conditions], axis=1)\n",
    "df.drop(columns='attributes', inplace=True)\n",
    "df"
   ]
  },
  {
   "cell_type": "code",
   "execution_count": 7,
   "id": "27c5c744",
   "metadata": {},
   "outputs": [
    {
     "data": {
      "text/html": [
       "<div>\n",
       "<style scoped>\n",
       "    .dataframe tbody tr th:only-of-type {\n",
       "        vertical-align: middle;\n",
       "    }\n",
       "\n",
       "    .dataframe tbody tr th {\n",
       "        vertical-align: top;\n",
       "    }\n",
       "\n",
       "    .dataframe thead th {\n",
       "        text-align: right;\n",
       "    }\n",
       "</style>\n",
       "<table border=\"1\" class=\"dataframe\">\n",
       "  <thead>\n",
       "    <tr style=\"text-align: right;\">\n",
       "      <th></th>\n",
       "      <th>name</th>\n",
       "      <th>labels</th>\n",
       "      <th>weather</th>\n",
       "      <th>scene</th>\n",
       "      <th>timeofday</th>\n",
       "      <th>label_counts</th>\n",
       "    </tr>\n",
       "  </thead>\n",
       "  <tbody>\n",
       "    <tr>\n",
       "      <th>0</th>\n",
       "      <td>098cff6f-dccb9e35.jpg</td>\n",
       "      <td>[{'category': 'car', 'attributes': {'occluded'...</td>\n",
       "      <td>overcast</td>\n",
       "      <td>highway</td>\n",
       "      <td>daytime</td>\n",
       "      <td>26</td>\n",
       "    </tr>\n",
       "    <tr>\n",
       "      <th>1</th>\n",
       "      <td>9097a21a-93970ff5.jpg</td>\n",
       "      <td>[{'category': 'traffic sign', 'attributes': {'...</td>\n",
       "      <td>clear</td>\n",
       "      <td>highway</td>\n",
       "      <td>night</td>\n",
       "      <td>9</td>\n",
       "    </tr>\n",
       "    <tr>\n",
       "      <th>2</th>\n",
       "      <td>59ac6b47-8566de5b.jpg</td>\n",
       "      <td>[{'category': 'traffic sign', 'attributes': {'...</td>\n",
       "      <td>clear</td>\n",
       "      <td>city street</td>\n",
       "      <td>night</td>\n",
       "      <td>12</td>\n",
       "    </tr>\n",
       "    <tr>\n",
       "      <th>3</th>\n",
       "      <td>35d108d2-54fd804c.jpg</td>\n",
       "      <td>[{'category': 'car', 'attributes': {'occluded'...</td>\n",
       "      <td>clear</td>\n",
       "      <td>residential</td>\n",
       "      <td>daytime</td>\n",
       "      <td>19</td>\n",
       "    </tr>\n",
       "    <tr>\n",
       "      <th>4</th>\n",
       "      <td>4cd5b47f-92b9c7f8.jpg</td>\n",
       "      <td>[{'category': 'car', 'attributes': {'occluded'...</td>\n",
       "      <td>overcast</td>\n",
       "      <td>highway</td>\n",
       "      <td>daytime</td>\n",
       "      <td>10</td>\n",
       "    </tr>\n",
       "    <tr>\n",
       "      <th>...</th>\n",
       "      <td>...</td>\n",
       "      <td>...</td>\n",
       "      <td>...</td>\n",
       "      <td>...</td>\n",
       "      <td>...</td>\n",
       "      <td>...</td>\n",
       "    </tr>\n",
       "    <tr>\n",
       "      <th>9995</th>\n",
       "      <td>8e2122c7-a5b877ce.jpg</td>\n",
       "      <td>[{'category': 'traffic sign', 'attributes': {'...</td>\n",
       "      <td>clear</td>\n",
       "      <td>city street</td>\n",
       "      <td>night</td>\n",
       "      <td>6</td>\n",
       "    </tr>\n",
       "    <tr>\n",
       "      <th>9996</th>\n",
       "      <td>24d630ed-0b727c03.jpg</td>\n",
       "      <td>[{'category': 'car', 'attributes': {'occluded'...</td>\n",
       "      <td>clear</td>\n",
       "      <td>residential</td>\n",
       "      <td>daytime</td>\n",
       "      <td>32</td>\n",
       "    </tr>\n",
       "    <tr>\n",
       "      <th>9997</th>\n",
       "      <td>a8613042-e019523a.jpg</td>\n",
       "      <td>[{'category': 'car', 'attributes': {'occluded'...</td>\n",
       "      <td>clear</td>\n",
       "      <td>highway</td>\n",
       "      <td>night</td>\n",
       "      <td>6</td>\n",
       "    </tr>\n",
       "    <tr>\n",
       "      <th>9998</th>\n",
       "      <td>a554178d-a07d9073.jpg</td>\n",
       "      <td>[{'category': 'bus', 'attributes': {'occluded'...</td>\n",
       "      <td>clear</td>\n",
       "      <td>highway</td>\n",
       "      <td>night</td>\n",
       "      <td>5</td>\n",
       "    </tr>\n",
       "    <tr>\n",
       "      <th>9999</th>\n",
       "      <td>0c2a51f7-f9417ba1.jpg</td>\n",
       "      <td>[{'category': 'car', 'attributes': {'occluded'...</td>\n",
       "      <td>clear</td>\n",
       "      <td>city street</td>\n",
       "      <td>night</td>\n",
       "      <td>12</td>\n",
       "    </tr>\n",
       "  </tbody>\n",
       "</table>\n",
       "<p>10000 rows × 6 columns</p>\n",
       "</div>"
      ],
      "text/plain": [
       "                       name  \\\n",
       "0     098cff6f-dccb9e35.jpg   \n",
       "1     9097a21a-93970ff5.jpg   \n",
       "2     59ac6b47-8566de5b.jpg   \n",
       "3     35d108d2-54fd804c.jpg   \n",
       "4     4cd5b47f-92b9c7f8.jpg   \n",
       "...                     ...   \n",
       "9995  8e2122c7-a5b877ce.jpg   \n",
       "9996  24d630ed-0b727c03.jpg   \n",
       "9997  a8613042-e019523a.jpg   \n",
       "9998  a554178d-a07d9073.jpg   \n",
       "9999  0c2a51f7-f9417ba1.jpg   \n",
       "\n",
       "                                                 labels   weather  \\\n",
       "0     [{'category': 'car', 'attributes': {'occluded'...  overcast   \n",
       "1     [{'category': 'traffic sign', 'attributes': {'...     clear   \n",
       "2     [{'category': 'traffic sign', 'attributes': {'...     clear   \n",
       "3     [{'category': 'car', 'attributes': {'occluded'...     clear   \n",
       "4     [{'category': 'car', 'attributes': {'occluded'...  overcast   \n",
       "...                                                 ...       ...   \n",
       "9995  [{'category': 'traffic sign', 'attributes': {'...     clear   \n",
       "9996  [{'category': 'car', 'attributes': {'occluded'...     clear   \n",
       "9997  [{'category': 'car', 'attributes': {'occluded'...     clear   \n",
       "9998  [{'category': 'bus', 'attributes': {'occluded'...     clear   \n",
       "9999  [{'category': 'car', 'attributes': {'occluded'...     clear   \n",
       "\n",
       "            scene timeofday  label_counts  \n",
       "0         highway   daytime            26  \n",
       "1         highway     night             9  \n",
       "2     city street     night            12  \n",
       "3     residential   daytime            19  \n",
       "4         highway   daytime            10  \n",
       "...           ...       ...           ...  \n",
       "9995  city street     night             6  \n",
       "9996  residential   daytime            32  \n",
       "9997      highway     night             6  \n",
       "9998      highway     night             5  \n",
       "9999  city street     night            12  \n",
       "\n",
       "[10000 rows x 6 columns]"
      ]
     },
     "execution_count": 7,
     "metadata": {},
     "output_type": "execute_result"
    }
   ],
   "source": [
    "def bb_count(test_dict):\n",
    "    bb = 0\n",
    "    poly = 0\n",
    "    for i in test_dict:\n",
    "        #print(i)\n",
    "        try:\n",
    "            if i['box2d']:\n",
    "                bb += 1\n",
    "        except:\n",
    "            pass\n",
    "\n",
    "        try:\n",
    "            if i['poly2d']:\n",
    "                poly += 1\n",
    "        except:\n",
    "            continue\n",
    "    return bb\n",
    "\n",
    "df['label_counts'] = df.labels.apply(bb_count)\n",
    "df"
   ]
  },
  {
   "cell_type": "code",
   "execution_count": 49,
   "id": "b865f94e",
   "metadata": {},
   "outputs": [
    {
     "data": {
      "image/png": "[encoded data removed]",
      "text/plain": [
       "<Figure size 864x396 with 1 Axes>"
      ]
     },
     "metadata": {},
     "output_type": "display_data"
    },
    {
     "data": {
      "image/png": "[encoded data removed]",
      "text/plain": [
       "<Figure size 864x396 with 1 Axes>"
      ]
     },
     "metadata": {},
     "output_type": "display_data"
    },
    {
     "data": {
      "image/png": "[encoded data removed]",
      "text/plain": [
       "<Figure size 864x396 with 1 Axes>"
      ]
     },
     "metadata": {},
     "output_type": "display_data"
    }
   ],
   "source": [
    "import seaborn as sns\n",
    "sns.set_style(\"dark\")\n",
    "\n",
    "hist_cols = ['weather', 'scene', 'timeofday']\n",
    "for col in hist_cols:\n",
    "    fig, ax = plt.subplots(figsize=(12,5.5))\n",
    "    sns.histplot(data=df, x=col, hue=col).set(title=f'Hist of {col.title()}');"
   ]
  },
  {
   "cell_type": "code",
   "execution_count": 9,
   "id": "5e4df1fb",
   "metadata": {},
   "outputs": [],
   "source": [
    "# fig, ax = plt.subplots(figsize=(14,8))\n",
    "# sns.histplot(data=df, x='label_counts', bins=69);"
   ]
  },
  {
   "cell_type": "code",
   "execution_count": 46,
   "id": "292bad19",
   "metadata": {},
   "outputs": [
    {
     "data": {
      "image/png": "[encoded data removed]",
      "text/plain": [
       "<Figure size 1008x576 with 1 Axes>"
      ]
     },
     "metadata": {},
     "output_type": "display_data"
    }
   ],
   "source": [
    "plt.figure(figsize=(14,8)) # Plot size\n",
    "#plt.style.use('seaborn-whitegrid') # Style\n",
    "\n",
    "# Building a histogram\n",
    "n, bins, patches = plt.hist(df.label_counts, bins=82, facecolor='#2ab0ff', edgecolor='#e0e0e0', linewidth=0.5, alpha=0.7)\n",
    "\n",
    "# Changing properties of each bin\n",
    "n = n.astype('int') # n should be integer, otherwise it wouldn't work properly\n",
    "\n",
    "# Accessing each bin, changing color according to height\n",
    "for i in range(len(patches)):\n",
    "    patches[i].set_facecolor(plt.cm.viridis(n[i]/max(n)))\n",
    "\n",
    "# Adding title and labels with custom font sizes\n",
    "plt.title('Objects per Image', fontsize=12)\n",
    "plt.xlabel('Objects in each Image', fontsize=10)\n",
    "plt.ylabel('Counts', fontsize=10)\n",
    "plt.show()"
   ]
  },
  {
   "cell_type": "code",
   "execution_count": 11,
   "id": "23c1ab0a",
   "metadata": {},
   "outputs": [],
   "source": [
    "# hist_cols = ['weather', 'scene', 'timeofday']\n",
    "\n",
    "# for col in hist_cols:\n",
    "#     temp = df[col].value_counts().to_frame()\n",
    "#     fig, ax = plt.subplots(figsize=(12,5.5))\n",
    "#     sns.barplot(x=temp.index, y=temp[col]).set(title=col.title(), xlabel=col, ylabel='count');"
   ]
  },
  {
   "cell_type": "code",
   "execution_count": 12,
   "id": "febed9d8",
   "metadata": {},
   "outputs": [],
   "source": [
    "# hist_cols = ['weather', 'scene', 'timeofday']\n",
    "\n",
    "# for col in hist_cols:\n",
    "#     fig, ax = plt.subplots(figsize=(12,5.5))\n",
    "#     sns.countplot(data=df, x=col, hue=col, order = df[col].value_counts().index);"
   ]
  },
  {
   "cell_type": "code",
   "execution_count": 13,
   "id": "3972bb82",
   "metadata": {},
   "outputs": [],
   "source": [
    "test_dict = df.labels.iloc[0]"
   ]
  },
  {
   "cell_type": "code",
   "execution_count": 14,
   "id": "aaa2634c",
   "metadata": {},
   "outputs": [
    {
     "data": {
      "text/plain": [
       "38"
      ]
     },
     "execution_count": 14,
     "metadata": {},
     "output_type": "execute_result"
    }
   ],
   "source": [
    "len(test_dict)"
   ]
  },
  {
   "cell_type": "code",
   "execution_count": 15,
   "id": "20603623",
   "metadata": {},
   "outputs": [
    {
     "data": {
      "text/plain": [
       "0       26\n",
       "1        9\n",
       "2       12\n",
       "3       19\n",
       "4       10\n",
       "        ..\n",
       "9995     6\n",
       "9996    32\n",
       "9997     6\n",
       "9998     5\n",
       "9999    12\n",
       "Name: labels, Length: 10000, dtype: int64"
      ]
     },
     "execution_count": 15,
     "metadata": {},
     "output_type": "execute_result"
    }
   ],
   "source": [
    "df.labels.apply(bb_count)"
   ]
  },
  {
   "cell_type": "code",
   "execution_count": 16,
   "id": "87f3acfe",
   "metadata": {},
   "outputs": [
    {
     "data": {
      "text/html": [
       "<svg  width=\"550\" height=\"55\"><rect x=\"0\" y=\"0\" width=\"55\" height=\"55\" style=\"fill:#1f77b4;stroke-width:2;stroke:rgb(255,255,255)\"/><rect x=\"55\" y=\"0\" width=\"55\" height=\"55\" style=\"fill:#ff7f0e;stroke-width:2;stroke:rgb(255,255,255)\"/><rect x=\"110\" y=\"0\" width=\"55\" height=\"55\" style=\"fill:#2ca02c;stroke-width:2;stroke:rgb(255,255,255)\"/><rect x=\"165\" y=\"0\" width=\"55\" height=\"55\" style=\"fill:#d62728;stroke-width:2;stroke:rgb(255,255,255)\"/><rect x=\"220\" y=\"0\" width=\"55\" height=\"55\" style=\"fill:#9467bd;stroke-width:2;stroke:rgb(255,255,255)\"/><rect x=\"275\" y=\"0\" width=\"55\" height=\"55\" style=\"fill:#8c564b;stroke-width:2;stroke:rgb(255,255,255)\"/><rect x=\"330\" y=\"0\" width=\"55\" height=\"55\" style=\"fill:#e377c2;stroke-width:2;stroke:rgb(255,255,255)\"/><rect x=\"385\" y=\"0\" width=\"55\" height=\"55\" style=\"fill:#7f7f7f;stroke-width:2;stroke:rgb(255,255,255)\"/><rect x=\"440\" y=\"0\" width=\"55\" height=\"55\" style=\"fill:#bcbd22;stroke-width:2;stroke:rgb(255,255,255)\"/><rect x=\"495\" y=\"0\" width=\"55\" height=\"55\" style=\"fill:#17becf;stroke-width:2;stroke:rgb(255,255,255)\"/></svg>"
      ],
      "text/plain": [
       "[(0.12156862745098039, 0.4666666666666667, 0.7058823529411765),\n",
       " (1.0, 0.4980392156862745, 0.054901960784313725),\n",
       " (0.17254901960784313, 0.6274509803921569, 0.17254901960784313),\n",
       " (0.8392156862745098, 0.15294117647058825, 0.1568627450980392),\n",
       " (0.5803921568627451, 0.403921568627451, 0.7411764705882353),\n",
       " (0.5490196078431373, 0.33725490196078434, 0.29411764705882354),\n",
       " (0.8901960784313725, 0.4666666666666667, 0.7607843137254902),\n",
       " (0.4980392156862745, 0.4980392156862745, 0.4980392156862745),\n",
       " (0.7372549019607844, 0.7411764705882353, 0.13333333333333333),\n",
       " (0.09019607843137255, 0.7450980392156863, 0.8117647058823529)]"
      ]
     },
     "execution_count": 16,
     "metadata": {},
     "output_type": "execute_result"
    }
   ],
   "source": [
    "sns.color_palette()"
   ]
  },
  {
   "cell_type": "code",
   "execution_count": 17,
   "id": "a3452d84",
   "metadata": {},
   "outputs": [],
   "source": [
    "from collections import defaultdict"
   ]
  },
  {
   "cell_type": "code",
   "execution_count": 18,
   "id": "ad98df60",
   "metadata": {},
   "outputs": [],
   "source": [
    "labels = df.labels.iloc[0]"
   ]
  },
  {
   "cell_type": "code",
   "execution_count": 19,
   "id": "3bf67819",
   "metadata": {},
   "outputs": [],
   "source": [
    "def object_counts(labels):\n",
    "    counts = defaultdict(int)\n",
    "    for label in labels:\n",
    "        #print(label['category'])\n",
    "        if label['category'] not in counts:\n",
    "            counts[label['category']] = 1\n",
    "        else:\n",
    "            counts[label['category']] += 1\n",
    "    return counts"
   ]
  },
  {
   "cell_type": "code",
   "execution_count": 20,
   "id": "f4543311",
   "metadata": {},
   "outputs": [
    {
     "data": {
      "text/plain": [
       "defaultdict(int,\n",
       "            {'car': 20,\n",
       "             'truck': 1,\n",
       "             'traffic sign': 5,\n",
       "             'drivable area': 3,\n",
       "             'lane': 9})"
      ]
     },
     "execution_count": 20,
     "metadata": {},
     "output_type": "execute_result"
    }
   ],
   "source": [
    "object_counts(labels)"
   ]
  },
  {
   "cell_type": "code",
   "execution_count": 21,
   "id": "a8bbf8ee",
   "metadata": {},
   "outputs": [],
   "source": [
    "df['object_counts'] = df.labels.apply(object_counts)"
   ]
  },
  {
   "cell_type": "code",
   "execution_count": 22,
   "id": "5acae97d",
   "metadata": {},
   "outputs": [
    {
     "data": {
      "text/html": [
       "<div>\n",
       "<style scoped>\n",
       "    .dataframe tbody tr th:only-of-type {\n",
       "        vertical-align: middle;\n",
       "    }\n",
       "\n",
       "    .dataframe tbody tr th {\n",
       "        vertical-align: top;\n",
       "    }\n",
       "\n",
       "    .dataframe thead th {\n",
       "        text-align: right;\n",
       "    }\n",
       "</style>\n",
       "<table border=\"1\" class=\"dataframe\">\n",
       "  <thead>\n",
       "    <tr style=\"text-align: right;\">\n",
       "      <th></th>\n",
       "      <th>name</th>\n",
       "      <th>labels</th>\n",
       "      <th>weather</th>\n",
       "      <th>scene</th>\n",
       "      <th>timeofday</th>\n",
       "      <th>label_counts</th>\n",
       "      <th>object_counts</th>\n",
       "    </tr>\n",
       "  </thead>\n",
       "  <tbody>\n",
       "    <tr>\n",
       "      <th>0</th>\n",
       "      <td>098cff6f-dccb9e35.jpg</td>\n",
       "      <td>[{'category': 'car', 'attributes': {'occluded'...</td>\n",
       "      <td>overcast</td>\n",
       "      <td>highway</td>\n",
       "      <td>daytime</td>\n",
       "      <td>26</td>\n",
       "      <td>{'car': 20, 'truck': 1, 'traffic sign': 5, 'dr...</td>\n",
       "    </tr>\n",
       "    <tr>\n",
       "      <th>1</th>\n",
       "      <td>9097a21a-93970ff5.jpg</td>\n",
       "      <td>[{'category': 'traffic sign', 'attributes': {'...</td>\n",
       "      <td>clear</td>\n",
       "      <td>highway</td>\n",
       "      <td>night</td>\n",
       "      <td>9</td>\n",
       "      <td>{'traffic sign': 5, 'car': 4, 'drivable area':...</td>\n",
       "    </tr>\n",
       "    <tr>\n",
       "      <th>2</th>\n",
       "      <td>59ac6b47-8566de5b.jpg</td>\n",
       "      <td>[{'category': 'traffic sign', 'attributes': {'...</td>\n",
       "      <td>clear</td>\n",
       "      <td>city street</td>\n",
       "      <td>night</td>\n",
       "      <td>12</td>\n",
       "      <td>{'traffic sign': 2, 'traffic light': 2, 'perso...</td>\n",
       "    </tr>\n",
       "    <tr>\n",
       "      <th>3</th>\n",
       "      <td>35d108d2-54fd804c.jpg</td>\n",
       "      <td>[{'category': 'car', 'attributes': {'occluded'...</td>\n",
       "      <td>clear</td>\n",
       "      <td>residential</td>\n",
       "      <td>daytime</td>\n",
       "      <td>19</td>\n",
       "      <td>{'car': 17, 'truck': 2, 'drivable area': 1, 'l...</td>\n",
       "    </tr>\n",
       "    <tr>\n",
       "      <th>4</th>\n",
       "      <td>4cd5b47f-92b9c7f8.jpg</td>\n",
       "      <td>[{'category': 'car', 'attributes': {'occluded'...</td>\n",
       "      <td>overcast</td>\n",
       "      <td>highway</td>\n",
       "      <td>daytime</td>\n",
       "      <td>10</td>\n",
       "      <td>{'car': 9, 'traffic sign': 1, 'drivable area':...</td>\n",
       "    </tr>\n",
       "    <tr>\n",
       "      <th>...</th>\n",
       "      <td>...</td>\n",
       "      <td>...</td>\n",
       "      <td>...</td>\n",
       "      <td>...</td>\n",
       "      <td>...</td>\n",
       "      <td>...</td>\n",
       "      <td>...</td>\n",
       "    </tr>\n",
       "    <tr>\n",
       "      <th>9995</th>\n",
       "      <td>8e2122c7-a5b877ce.jpg</td>\n",
       "      <td>[{'category': 'traffic sign', 'attributes': {'...</td>\n",
       "      <td>clear</td>\n",
       "      <td>city street</td>\n",
       "      <td>night</td>\n",
       "      <td>6</td>\n",
       "      <td>{'traffic sign': 3, 'car': 3, 'drivable area':...</td>\n",
       "    </tr>\n",
       "    <tr>\n",
       "      <th>9996</th>\n",
       "      <td>24d630ed-0b727c03.jpg</td>\n",
       "      <td>[{'category': 'car', 'attributes': {'occluded'...</td>\n",
       "      <td>clear</td>\n",
       "      <td>residential</td>\n",
       "      <td>daytime</td>\n",
       "      <td>32</td>\n",
       "      <td>{'car': 23, 'traffic sign': 9, 'drivable area'...</td>\n",
       "    </tr>\n",
       "    <tr>\n",
       "      <th>9997</th>\n",
       "      <td>a8613042-e019523a.jpg</td>\n",
       "      <td>[{'category': 'car', 'attributes': {'occluded'...</td>\n",
       "      <td>clear</td>\n",
       "      <td>highway</td>\n",
       "      <td>night</td>\n",
       "      <td>6</td>\n",
       "      <td>{'car': 3, 'traffic light': 3, 'drivable area'...</td>\n",
       "    </tr>\n",
       "    <tr>\n",
       "      <th>9998</th>\n",
       "      <td>a554178d-a07d9073.jpg</td>\n",
       "      <td>[{'category': 'bus', 'attributes': {'occluded'...</td>\n",
       "      <td>clear</td>\n",
       "      <td>highway</td>\n",
       "      <td>night</td>\n",
       "      <td>5</td>\n",
       "      <td>{'bus': 1, 'car': 1, 'traffic sign': 3, 'driva...</td>\n",
       "    </tr>\n",
       "    <tr>\n",
       "      <th>9999</th>\n",
       "      <td>0c2a51f7-f9417ba1.jpg</td>\n",
       "      <td>[{'category': 'car', 'attributes': {'occluded'...</td>\n",
       "      <td>clear</td>\n",
       "      <td>city street</td>\n",
       "      <td>night</td>\n",
       "      <td>12</td>\n",
       "      <td>{'car': 11, 'traffic light': 1, 'drivable area...</td>\n",
       "    </tr>\n",
       "  </tbody>\n",
       "</table>\n",
       "<p>10000 rows × 7 columns</p>\n",
       "</div>"
      ],
      "text/plain": [
       "                       name  \\\n",
       "0     098cff6f-dccb9e35.jpg   \n",
       "1     9097a21a-93970ff5.jpg   \n",
       "2     59ac6b47-8566de5b.jpg   \n",
       "3     35d108d2-54fd804c.jpg   \n",
       "4     4cd5b47f-92b9c7f8.jpg   \n",
       "...                     ...   \n",
       "9995  8e2122c7-a5b877ce.jpg   \n",
       "9996  24d630ed-0b727c03.jpg   \n",
       "9997  a8613042-e019523a.jpg   \n",
       "9998  a554178d-a07d9073.jpg   \n",
       "9999  0c2a51f7-f9417ba1.jpg   \n",
       "\n",
       "                                                 labels   weather  \\\n",
       "0     [{'category': 'car', 'attributes': {'occluded'...  overcast   \n",
       "1     [{'category': 'traffic sign', 'attributes': {'...     clear   \n",
       "2     [{'category': 'traffic sign', 'attributes': {'...     clear   \n",
       "3     [{'category': 'car', 'attributes': {'occluded'...     clear   \n",
       "4     [{'category': 'car', 'attributes': {'occluded'...  overcast   \n",
       "...                                                 ...       ...   \n",
       "9995  [{'category': 'traffic sign', 'attributes': {'...     clear   \n",
       "9996  [{'category': 'car', 'attributes': {'occluded'...     clear   \n",
       "9997  [{'category': 'car', 'attributes': {'occluded'...     clear   \n",
       "9998  [{'category': 'bus', 'attributes': {'occluded'...     clear   \n",
       "9999  [{'category': 'car', 'attributes': {'occluded'...     clear   \n",
       "\n",
       "            scene timeofday  label_counts  \\\n",
       "0         highway   daytime            26   \n",
       "1         highway     night             9   \n",
       "2     city street     night            12   \n",
       "3     residential   daytime            19   \n",
       "4         highway   daytime            10   \n",
       "...           ...       ...           ...   \n",
       "9995  city street     night             6   \n",
       "9996  residential   daytime            32   \n",
       "9997      highway     night             6   \n",
       "9998      highway     night             5   \n",
       "9999  city street     night            12   \n",
       "\n",
       "                                          object_counts  \n",
       "0     {'car': 20, 'truck': 1, 'traffic sign': 5, 'dr...  \n",
       "1     {'traffic sign': 5, 'car': 4, 'drivable area':...  \n",
       "2     {'traffic sign': 2, 'traffic light': 2, 'perso...  \n",
       "3     {'car': 17, 'truck': 2, 'drivable area': 1, 'l...  \n",
       "4     {'car': 9, 'traffic sign': 1, 'drivable area':...  \n",
       "...                                                 ...  \n",
       "9995  {'traffic sign': 3, 'car': 3, 'drivable area':...  \n",
       "9996  {'car': 23, 'traffic sign': 9, 'drivable area'...  \n",
       "9997  {'car': 3, 'traffic light': 3, 'drivable area'...  \n",
       "9998  {'bus': 1, 'car': 1, 'traffic sign': 3, 'driva...  \n",
       "9999  {'car': 11, 'traffic light': 1, 'drivable area...  \n",
       "\n",
       "[10000 rows x 7 columns]"
      ]
     },
     "execution_count": 22,
     "metadata": {},
     "output_type": "execute_result"
    }
   ],
   "source": [
    "df"
   ]
  },
  {
   "cell_type": "code",
   "execution_count": 23,
   "id": "fd9590cc",
   "metadata": {},
   "outputs": [
    {
     "data": {
      "text/html": [
       "<div>\n",
       "<style scoped>\n",
       "    .dataframe tbody tr th:only-of-type {\n",
       "        vertical-align: middle;\n",
       "    }\n",
       "\n",
       "    .dataframe tbody tr th {\n",
       "        vertical-align: top;\n",
       "    }\n",
       "\n",
       "    .dataframe thead th {\n",
       "        text-align: right;\n",
       "    }\n",
       "</style>\n",
       "<table border=\"1\" class=\"dataframe\">\n",
       "  <thead>\n",
       "    <tr style=\"text-align: right;\">\n",
       "      <th></th>\n",
       "      <th>car</th>\n",
       "      <th>truck</th>\n",
       "      <th>traffic sign</th>\n",
       "      <th>drivable area</th>\n",
       "      <th>lane</th>\n",
       "      <th>traffic light</th>\n",
       "      <th>person</th>\n",
       "      <th>bike</th>\n",
       "      <th>bus</th>\n",
       "      <th>rider</th>\n",
       "      <th>motor</th>\n",
       "      <th>train</th>\n",
       "    </tr>\n",
       "  </thead>\n",
       "  <tbody>\n",
       "    <tr>\n",
       "      <th>0</th>\n",
       "      <td>20.0</td>\n",
       "      <td>1.0</td>\n",
       "      <td>5.0</td>\n",
       "      <td>3.0</td>\n",
       "      <td>9.0</td>\n",
       "      <td>0.0</td>\n",
       "      <td>0.0</td>\n",
       "      <td>0.0</td>\n",
       "      <td>0.0</td>\n",
       "      <td>0.0</td>\n",
       "      <td>0.0</td>\n",
       "      <td>0.0</td>\n",
       "    </tr>\n",
       "    <tr>\n",
       "      <th>1</th>\n",
       "      <td>4.0</td>\n",
       "      <td>0.0</td>\n",
       "      <td>5.0</td>\n",
       "      <td>3.0</td>\n",
       "      <td>6.0</td>\n",
       "      <td>0.0</td>\n",
       "      <td>0.0</td>\n",
       "      <td>0.0</td>\n",
       "      <td>0.0</td>\n",
       "      <td>0.0</td>\n",
       "      <td>0.0</td>\n",
       "      <td>0.0</td>\n",
       "    </tr>\n",
       "    <tr>\n",
       "      <th>2</th>\n",
       "      <td>5.0</td>\n",
       "      <td>1.0</td>\n",
       "      <td>2.0</td>\n",
       "      <td>2.0</td>\n",
       "      <td>9.0</td>\n",
       "      <td>2.0</td>\n",
       "      <td>2.0</td>\n",
       "      <td>0.0</td>\n",
       "      <td>0.0</td>\n",
       "      <td>0.0</td>\n",
       "      <td>0.0</td>\n",
       "      <td>0.0</td>\n",
       "    </tr>\n",
       "    <tr>\n",
       "      <th>3</th>\n",
       "      <td>17.0</td>\n",
       "      <td>2.0</td>\n",
       "      <td>0.0</td>\n",
       "      <td>1.0</td>\n",
       "      <td>5.0</td>\n",
       "      <td>0.0</td>\n",
       "      <td>0.0</td>\n",
       "      <td>0.0</td>\n",
       "      <td>0.0</td>\n",
       "      <td>0.0</td>\n",
       "      <td>0.0</td>\n",
       "      <td>0.0</td>\n",
       "    </tr>\n",
       "    <tr>\n",
       "      <th>4</th>\n",
       "      <td>9.0</td>\n",
       "      <td>0.0</td>\n",
       "      <td>1.0</td>\n",
       "      <td>2.0</td>\n",
       "      <td>12.0</td>\n",
       "      <td>0.0</td>\n",
       "      <td>0.0</td>\n",
       "      <td>0.0</td>\n",
       "      <td>0.0</td>\n",
       "      <td>0.0</td>\n",
       "      <td>0.0</td>\n",
       "      <td>0.0</td>\n",
       "    </tr>\n",
       "    <tr>\n",
       "      <th>...</th>\n",
       "      <td>...</td>\n",
       "      <td>...</td>\n",
       "      <td>...</td>\n",
       "      <td>...</td>\n",
       "      <td>...</td>\n",
       "      <td>...</td>\n",
       "      <td>...</td>\n",
       "      <td>...</td>\n",
       "      <td>...</td>\n",
       "      <td>...</td>\n",
       "      <td>...</td>\n",
       "      <td>...</td>\n",
       "    </tr>\n",
       "    <tr>\n",
       "      <th>9995</th>\n",
       "      <td>3.0</td>\n",
       "      <td>0.0</td>\n",
       "      <td>3.0</td>\n",
       "      <td>2.0</td>\n",
       "      <td>4.0</td>\n",
       "      <td>0.0</td>\n",
       "      <td>0.0</td>\n",
       "      <td>0.0</td>\n",
       "      <td>0.0</td>\n",
       "      <td>0.0</td>\n",
       "      <td>0.0</td>\n",
       "      <td>0.0</td>\n",
       "    </tr>\n",
       "    <tr>\n",
       "      <th>9996</th>\n",
       "      <td>23.0</td>\n",
       "      <td>0.0</td>\n",
       "      <td>9.0</td>\n",
       "      <td>1.0</td>\n",
       "      <td>4.0</td>\n",
       "      <td>0.0</td>\n",
       "      <td>0.0</td>\n",
       "      <td>0.0</td>\n",
       "      <td>0.0</td>\n",
       "      <td>0.0</td>\n",
       "      <td>0.0</td>\n",
       "      <td>0.0</td>\n",
       "    </tr>\n",
       "    <tr>\n",
       "      <th>9997</th>\n",
       "      <td>3.0</td>\n",
       "      <td>0.0</td>\n",
       "      <td>0.0</td>\n",
       "      <td>2.0</td>\n",
       "      <td>4.0</td>\n",
       "      <td>3.0</td>\n",
       "      <td>0.0</td>\n",
       "      <td>0.0</td>\n",
       "      <td>0.0</td>\n",
       "      <td>0.0</td>\n",
       "      <td>0.0</td>\n",
       "      <td>0.0</td>\n",
       "    </tr>\n",
       "    <tr>\n",
       "      <th>9998</th>\n",
       "      <td>1.0</td>\n",
       "      <td>0.0</td>\n",
       "      <td>3.0</td>\n",
       "      <td>2.0</td>\n",
       "      <td>7.0</td>\n",
       "      <td>0.0</td>\n",
       "      <td>0.0</td>\n",
       "      <td>0.0</td>\n",
       "      <td>1.0</td>\n",
       "      <td>0.0</td>\n",
       "      <td>0.0</td>\n",
       "      <td>0.0</td>\n",
       "    </tr>\n",
       "    <tr>\n",
       "      <th>9999</th>\n",
       "      <td>11.0</td>\n",
       "      <td>0.0</td>\n",
       "      <td>0.0</td>\n",
       "      <td>1.0</td>\n",
       "      <td>0.0</td>\n",
       "      <td>1.0</td>\n",
       "      <td>0.0</td>\n",
       "      <td>0.0</td>\n",
       "      <td>0.0</td>\n",
       "      <td>0.0</td>\n",
       "      <td>0.0</td>\n",
       "      <td>0.0</td>\n",
       "    </tr>\n",
       "  </tbody>\n",
       "</table>\n",
       "<p>10000 rows × 12 columns</p>\n",
       "</div>"
      ],
      "text/plain": [
       "       car  truck  traffic sign  drivable area  lane  traffic light  person  \\\n",
       "0     20.0    1.0           5.0            3.0   9.0            0.0     0.0   \n",
       "1      4.0    0.0           5.0            3.0   6.0            0.0     0.0   \n",
       "2      5.0    1.0           2.0            2.0   9.0            2.0     2.0   \n",
       "3     17.0    2.0           0.0            1.0   5.0            0.0     0.0   \n",
       "4      9.0    0.0           1.0            2.0  12.0            0.0     0.0   \n",
       "...    ...    ...           ...            ...   ...            ...     ...   \n",
       "9995   3.0    0.0           3.0            2.0   4.0            0.0     0.0   \n",
       "9996  23.0    0.0           9.0            1.0   4.0            0.0     0.0   \n",
       "9997   3.0    0.0           0.0            2.0   4.0            3.0     0.0   \n",
       "9998   1.0    0.0           3.0            2.0   7.0            0.0     0.0   \n",
       "9999  11.0    0.0           0.0            1.0   0.0            1.0     0.0   \n",
       "\n",
       "      bike  bus  rider  motor  train  \n",
       "0      0.0  0.0    0.0    0.0    0.0  \n",
       "1      0.0  0.0    0.0    0.0    0.0  \n",
       "2      0.0  0.0    0.0    0.0    0.0  \n",
       "3      0.0  0.0    0.0    0.0    0.0  \n",
       "4      0.0  0.0    0.0    0.0    0.0  \n",
       "...    ...  ...    ...    ...    ...  \n",
       "9995   0.0  0.0    0.0    0.0    0.0  \n",
       "9996   0.0  0.0    0.0    0.0    0.0  \n",
       "9997   0.0  0.0    0.0    0.0    0.0  \n",
       "9998   0.0  1.0    0.0    0.0    0.0  \n",
       "9999   0.0  0.0    0.0    0.0    0.0  \n",
       "\n",
       "[10000 rows x 12 columns]"
      ]
     },
     "execution_count": 23,
     "metadata": {},
     "output_type": "execute_result"
    }
   ],
   "source": [
    "object_counts = df.object_counts.apply(pd.Series)\n",
    "object_counts = object_counts.fillna(0)\n",
    "object_counts"
   ]
  },
  {
   "cell_type": "code",
   "execution_count": 24,
   "id": "b0abbf9c",
   "metadata": {},
   "outputs": [
    {
     "data": {
      "text/html": [
       "<div>\n",
       "<style scoped>\n",
       "    .dataframe tbody tr th:only-of-type {\n",
       "        vertical-align: middle;\n",
       "    }\n",
       "\n",
       "    .dataframe tbody tr th {\n",
       "        vertical-align: top;\n",
       "    }\n",
       "\n",
       "    .dataframe thead th {\n",
       "        text-align: right;\n",
       "    }\n",
       "</style>\n",
       "<table border=\"1\" class=\"dataframe\">\n",
       "  <thead>\n",
       "    <tr style=\"text-align: right;\">\n",
       "      <th></th>\n",
       "      <th>car</th>\n",
       "      <th>truck</th>\n",
       "      <th>traffic sign</th>\n",
       "      <th>drivable area</th>\n",
       "      <th>lane</th>\n",
       "      <th>traffic light</th>\n",
       "      <th>person</th>\n",
       "      <th>bike</th>\n",
       "      <th>bus</th>\n",
       "      <th>rider</th>\n",
       "      <th>motor</th>\n",
       "      <th>train</th>\n",
       "    </tr>\n",
       "  </thead>\n",
       "  <tbody>\n",
       "    <tr>\n",
       "      <th>count</th>\n",
       "      <td>10000.000000</td>\n",
       "      <td>10000.000000</td>\n",
       "      <td>10000.000000</td>\n",
       "      <td>10000.000000</td>\n",
       "      <td>10000.000000</td>\n",
       "      <td>10000.000000</td>\n",
       "      <td>10000.000000</td>\n",
       "      <td>10000.0000</td>\n",
       "      <td>10000.000000</td>\n",
       "      <td>10000.000000</td>\n",
       "      <td>10000.000000</td>\n",
       "      <td>10000.000000</td>\n",
       "    </tr>\n",
       "    <tr>\n",
       "      <th>mean</th>\n",
       "      <td>10.231200</td>\n",
       "      <td>0.424100</td>\n",
       "      <td>3.394000</td>\n",
       "      <td>1.788300</td>\n",
       "      <td>7.455300</td>\n",
       "      <td>2.605800</td>\n",
       "      <td>1.262000</td>\n",
       "      <td>0.0988</td>\n",
       "      <td>0.166400</td>\n",
       "      <td>0.058100</td>\n",
       "      <td>0.041000</td>\n",
       "      <td>0.000900</td>\n",
       "    </tr>\n",
       "    <tr>\n",
       "      <th>std</th>\n",
       "      <td>6.167167</td>\n",
       "      <td>0.870009</td>\n",
       "      <td>3.204308</td>\n",
       "      <td>1.089129</td>\n",
       "      <td>5.094723</td>\n",
       "      <td>3.213696</td>\n",
       "      <td>3.235738</td>\n",
       "      <td>0.5554</td>\n",
       "      <td>0.498935</td>\n",
       "      <td>0.280236</td>\n",
       "      <td>0.242745</td>\n",
       "      <td>0.029988</td>\n",
       "    </tr>\n",
       "    <tr>\n",
       "      <th>min</th>\n",
       "      <td>0.000000</td>\n",
       "      <td>0.000000</td>\n",
       "      <td>0.000000</td>\n",
       "      <td>0.000000</td>\n",
       "      <td>0.000000</td>\n",
       "      <td>0.000000</td>\n",
       "      <td>0.000000</td>\n",
       "      <td>0.0000</td>\n",
       "      <td>0.000000</td>\n",
       "      <td>0.000000</td>\n",
       "      <td>0.000000</td>\n",
       "      <td>0.000000</td>\n",
       "    </tr>\n",
       "    <tr>\n",
       "      <th>25%</th>\n",
       "      <td>5.000000</td>\n",
       "      <td>0.000000</td>\n",
       "      <td>1.000000</td>\n",
       "      <td>1.000000</td>\n",
       "      <td>4.000000</td>\n",
       "      <td>0.000000</td>\n",
       "      <td>0.000000</td>\n",
       "      <td>0.0000</td>\n",
       "      <td>0.000000</td>\n",
       "      <td>0.000000</td>\n",
       "      <td>0.000000</td>\n",
       "      <td>0.000000</td>\n",
       "    </tr>\n",
       "    <tr>\n",
       "      <th>50%</th>\n",
       "      <td>9.000000</td>\n",
       "      <td>0.000000</td>\n",
       "      <td>3.000000</td>\n",
       "      <td>1.000000</td>\n",
       "      <td>7.000000</td>\n",
       "      <td>1.000000</td>\n",
       "      <td>0.000000</td>\n",
       "      <td>0.0000</td>\n",
       "      <td>0.000000</td>\n",
       "      <td>0.000000</td>\n",
       "      <td>0.000000</td>\n",
       "      <td>0.000000</td>\n",
       "    </tr>\n",
       "    <tr>\n",
       "      <th>75%</th>\n",
       "      <td>14.000000</td>\n",
       "      <td>1.000000</td>\n",
       "      <td>5.000000</td>\n",
       "      <td>2.000000</td>\n",
       "      <td>10.000000</td>\n",
       "      <td>5.000000</td>\n",
       "      <td>1.000000</td>\n",
       "      <td>0.0000</td>\n",
       "      <td>0.000000</td>\n",
       "      <td>0.000000</td>\n",
       "      <td>0.000000</td>\n",
       "      <td>0.000000</td>\n",
       "    </tr>\n",
       "    <tr>\n",
       "      <th>max</th>\n",
       "      <td>61.000000</td>\n",
       "      <td>11.000000</td>\n",
       "      <td>29.000000</td>\n",
       "      <td>7.000000</td>\n",
       "      <td>37.000000</td>\n",
       "      <td>20.000000</td>\n",
       "      <td>49.000000</td>\n",
       "      <td>15.0000</td>\n",
       "      <td>7.000000</td>\n",
       "      <td>4.000000</td>\n",
       "      <td>5.000000</td>\n",
       "      <td>1.000000</td>\n",
       "    </tr>\n",
       "  </tbody>\n",
       "</table>\n",
       "</div>"
      ],
      "text/plain": [
       "                car         truck  traffic sign  drivable area          lane  \\\n",
       "count  10000.000000  10000.000000  10000.000000   10000.000000  10000.000000   \n",
       "mean      10.231200      0.424100      3.394000       1.788300      7.455300   \n",
       "std        6.167167      0.870009      3.204308       1.089129      5.094723   \n",
       "min        0.000000      0.000000      0.000000       0.000000      0.000000   \n",
       "25%        5.000000      0.000000      1.000000       1.000000      4.000000   \n",
       "50%        9.000000      0.000000      3.000000       1.000000      7.000000   \n",
       "75%       14.000000      1.000000      5.000000       2.000000     10.000000   \n",
       "max       61.000000     11.000000     29.000000       7.000000     37.000000   \n",
       "\n",
       "       traffic light        person        bike           bus         rider  \\\n",
       "count   10000.000000  10000.000000  10000.0000  10000.000000  10000.000000   \n",
       "mean        2.605800      1.262000      0.0988      0.166400      0.058100   \n",
       "std         3.213696      3.235738      0.5554      0.498935      0.280236   \n",
       "min         0.000000      0.000000      0.0000      0.000000      0.000000   \n",
       "25%         0.000000      0.000000      0.0000      0.000000      0.000000   \n",
       "50%         1.000000      0.000000      0.0000      0.000000      0.000000   \n",
       "75%         5.000000      1.000000      0.0000      0.000000      0.000000   \n",
       "max        20.000000     49.000000     15.0000      7.000000      4.000000   \n",
       "\n",
       "              motor         train  \n",
       "count  10000.000000  10000.000000  \n",
       "mean       0.041000      0.000900  \n",
       "std        0.242745      0.029988  \n",
       "min        0.000000      0.000000  \n",
       "25%        0.000000      0.000000  \n",
       "50%        0.000000      0.000000  \n",
       "75%        0.000000      0.000000  \n",
       "max        5.000000      1.000000  "
      ]
     },
     "execution_count": 24,
     "metadata": {},
     "output_type": "execute_result"
    }
   ],
   "source": [
    "object_counts.describe()"
   ]
  },
  {
   "cell_type": "code",
   "execution_count": 25,
   "id": "f442f1ea",
   "metadata": {},
   "outputs": [
    {
     "data": {
      "image/png": "[encoded data removed]",
      "text/plain": [
       "<Figure size 1008x576 with 1 Axes>"
      ]
     },
     "metadata": {},
     "output_type": "display_data"
    }
   ],
   "source": [
    "fig, ax = plt.subplots(figsize=(14,8))\n",
    "sns.histplot(data=object_counts, x='truck', bins=5);"
   ]
  },
  {
   "cell_type": "code",
   "execution_count": 26,
   "id": "2f802257",
   "metadata": {},
   "outputs": [
    {
     "data": {
      "image/png": "[encoded data removed]",
      "text/plain": [
       "<Figure size 1008x576 with 1 Axes>"
      ]
     },
     "metadata": {},
     "output_type": "display_data"
    }
   ],
   "source": [
    "fig, ax = plt.subplots(figsize=(14,8))\n",
    "sns.histplot(data=object_counts, x='car', bins=21);"
   ]
  },
  {
   "cell_type": "code",
   "execution_count": 27,
   "id": "605c5baa",
   "metadata": {},
   "outputs": [
    {
     "data": {
      "image/png": "[encoded data removed]",
      "text/plain": [
       "<Figure size 1008x576 with 1 Axes>"
      ]
     },
     "metadata": {},
     "output_type": "display_data"
    }
   ],
   "source": [
    "fig, ax = plt.subplots(figsize=(14,8))\n",
    "sns.histplot(data=object_counts, x='traffic sign', bins=22);"
   ]
  },
  {
   "cell_type": "markdown",
   "id": "f317a5b2",
   "metadata": {},
   "source": [
    "# Appendix"
   ]
  },
  {
   "cell_type": "code",
   "execution_count": 28,
   "id": "ffb9cfb0",
   "metadata": {},
   "outputs": [],
   "source": [
    "import os\n",
    "import json\n",
    "import glob\n",
    "import numpy as np\n",
    "from tqdm import tqdm\n",
    "from PIL import Image\n",
    "import matplotlib.pyplot as plt\n",
    "\n",
    "import torch\n",
    "from torch.utils.data import random_split\n",
    "from torch.utils.data import DataLoader\n",
    "# from torchvision.datasets.folder import pil_loader\n",
    "\n",
    "from dataset import BDDDataset"
   ]
  },
  {
   "cell_type": "code",
   "execution_count": 51,
   "id": "2118fb88",
   "metadata": {},
   "outputs": [],
   "source": [
    "import transforms as T\n",
    "\n",
    "def get_transform(train):\n",
    "    transforms = []\n",
    "    transforms.append(T.ToTensor())\n",
    "    if train:\n",
    "        transforms.append(T.RandomHorizontalFlip(0.5))\n",
    "    return T.Compose(transforms)"
   ]
  },
  {
   "cell_type": "code",
   "execution_count": 53,
   "id": "210aa57b",
   "metadata": {},
   "outputs": [],
   "source": [
    "drive_dataset = BDDDataset('data/bdd100k', get_transform(train=False))"
   ]
  },
  {
   "cell_type": "code",
   "execution_count": 55,
   "id": "762701c1",
   "metadata": {},
   "outputs": [
    {
     "data": {
      "text/plain": [
       "9998"
      ]
     },
     "execution_count": 55,
     "metadata": {},
     "output_type": "execute_result"
    }
   ],
   "source": [
    "len(drive_dataset)"
   ]
  },
  {
   "cell_type": "code",
   "execution_count": 56,
   "id": "8527873c",
   "metadata": {},
   "outputs": [],
   "source": [
    "torch.manual_seed(0)\n",
    "\n",
    "train_set, test_set, val_set = torch.utils.data.random_split(drive_dataset, [7000, 2000, 998 ])"
   ]
  },
  {
   "cell_type": "code",
   "execution_count": 57,
   "id": "3fad8381",
   "metadata": {},
   "outputs": [
    {
     "data": {
      "text/plain": [
       "(7000, 2000, 998)"
      ]
     },
     "execution_count": 57,
     "metadata": {},
     "output_type": "execute_result"
    }
   ],
   "source": [
    "len(train_set), len(test_set), len(val_set)"
   ]
  },
  {
   "cell_type": "code",
   "execution_count": 58,
   "id": "742b9864",
   "metadata": {},
   "outputs": [],
   "source": [
    "loader = DataLoader(drive_dataset,\n",
    "                    batch_size=2,\n",
    "                    shuffle=True)"
   ]
  },
  {
   "cell_type": "code",
   "execution_count": 59,
   "id": "0ef2e69c",
   "metadata": {},
   "outputs": [
    {
     "data": {
      "text/plain": [
       "2"
      ]
     },
     "execution_count": 59,
     "metadata": {},
     "output_type": "execute_result"
    }
   ],
   "source": [
    "loader.batch_size"
   ]
  },
  {
   "cell_type": "code",
   "execution_count": 60,
   "id": "7a2339ce",
   "metadata": {},
   "outputs": [
    {
     "data": {
      "text/plain": [
       "0"
      ]
     },
     "execution_count": 60,
     "metadata": {},
     "output_type": "execute_result"
    }
   ],
   "source": [
    "loader.num_workers"
   ]
  },
  {
   "cell_type": "code",
   "execution_count": 61,
   "id": "c4cd202b",
   "metadata": {},
   "outputs": [
    {
     "data": {
      "text/plain": [
       "9998"
      ]
     },
     "execution_count": 61,
     "metadata": {},
     "output_type": "execute_result"
    }
   ],
   "source": [
    "len(loader.dataset)"
   ]
  },
  {
   "cell_type": "code",
   "execution_count": null,
   "id": "2e690dce",
   "metadata": {},
   "outputs": [],
   "source": []
  },
  {
   "cell_type": "code",
   "execution_count": 66,
   "id": "73d972ef",
   "metadata": {},
   "outputs": [],
   "source": [
    "from torchvision import transforms\n",
    "transform = transforms.Compose(\n",
    "    [transforms.Resize(64), transforms.ToTensor()])\n",
    "\n",
    "loader = DataLoader(\n",
    "    BDDDataset('data/bdd100k', get_transform(train=True)),\n",
    "    batch_size=2,\n",
    "    shuffle=True)\n",
    "\n",
    "val_loader = DataLoader(\n",
    "    BDDDataset('data/bdd100k', get_transform(train=False)),\n",
    "    batch_size=2,\n",
    "    shuffle=True)"
   ]
  },
  {
   "cell_type": "code",
   "execution_count": null,
   "id": "afaa0e2f",
   "metadata": {},
   "outputs": [],
   "source": []
  },
  {
   "cell_type": "code",
   "execution_count": 67,
   "id": "c13b533d",
   "metadata": {},
   "outputs": [
    {
     "data": {
      "text/plain": [
       "9998"
      ]
     },
     "execution_count": 67,
     "metadata": {},
     "output_type": "execute_result"
    }
   ],
   "source": [
    "len(loader.dataset)"
   ]
  },
  {
   "cell_type": "code",
   "execution_count": 68,
   "id": "e5aa27a3",
   "metadata": {},
   "outputs": [
    {
     "data": {
      "text/plain": [
       "9998"
      ]
     },
     "execution_count": 68,
     "metadata": {},
     "output_type": "execute_result"
    }
   ],
   "source": [
    "len(val_loader.dataset)"
   ]
  },
  {
   "cell_type": "code",
   "execution_count": 69,
   "id": "be11a8c4",
   "metadata": {},
   "outputs": [],
   "source": [
    "image, label = loader.dataset.__getitem__(2)"
   ]
  },
  {
   "cell_type": "code",
   "execution_count": 70,
   "id": "7df721d5",
   "metadata": {},
   "outputs": [
    {
     "data": {
      "text/plain": [
       "torch.Tensor"
      ]
     },
     "execution_count": 70,
     "metadata": {},
     "output_type": "execute_result"
    }
   ],
   "source": [
    "type(image)"
   ]
  },
  {
   "cell_type": "code",
   "execution_count": 71,
   "id": "78e0713d",
   "metadata": {},
   "outputs": [],
   "source": [
    "from matplotlib.patches import Rectangle\n",
    "\n",
    "# plt.imshow(image)\n",
    "# plt.gca().add_patch(Rectangle((50,100),40,30,linewidth=1,edgecolor='r',facecolor='none'))\n",
    "# plt.show()"
   ]
  },
  {
   "cell_type": "code",
   "execution_count": 72,
   "id": "6645853c",
   "metadata": {},
   "outputs": [
    {
     "data": {
      "text/plain": [
       "tensor(9)"
      ]
     },
     "execution_count": 72,
     "metadata": {},
     "output_type": "execute_result"
    }
   ],
   "source": [
    "label['labels'][0]"
   ]
  },
  {
   "cell_type": "code",
   "execution_count": 73,
   "id": "257b30a8",
   "metadata": {},
   "outputs": [
    {
     "data": {
      "text/plain": [
       "26"
      ]
     },
     "execution_count": 73,
     "metadata": {},
     "output_type": "execute_result"
    }
   ],
   "source": [
    "len(label['labels'])"
   ]
  },
  {
   "cell_type": "code",
   "execution_count": 77,
   "id": "e062597d",
   "metadata": {},
   "outputs": [],
   "source": [
    "# label['labels'][0]['box2d']['x1']"
   ]
  },
  {
   "cell_type": "code",
   "execution_count": 76,
   "id": "4aad6c37",
   "metadata": {},
   "outputs": [],
   "source": [
    "# plt.imshow(image)\n",
    "# x1 = label['labels'][0]['box2d']['x1']\n",
    "# x2 = label['labels'][0]['box2d']['x2']\n",
    "# y1 = label['labels'][0]['box2d']['y1']\n",
    "# y2 = label['labels'][0]['box2d']['y2']\n",
    "\n",
    "# print(x1, y1, x2, y2)\n",
    "\n",
    "# x = x1\n",
    "# y = y2\n",
    "# w = x2 - x1\n",
    "# h = y1 - y2\n",
    "\n",
    "# plt.plot(x1, y1, marker='v', color=\"white\")\n",
    "# plt.plot(x2, y2, marker='v', color=\"white\")\n",
    "\n",
    "# plt.gca().add_patch(Rectangle((x,y),w,h,linewidth=1,edgecolor='r',facecolor='none'))\n",
    "# plt.show()"
   ]
  },
  {
   "cell_type": "code",
   "execution_count": null,
   "id": "1505c3a3",
   "metadata": {},
   "outputs": [],
   "source": [
    "image.size[0]"
   ]
  },
  {
   "cell_type": "code",
   "execution_count": null,
   "id": "c3db30e6",
   "metadata": {},
   "outputs": [],
   "source": [
    "import numpy as np\n",
    "colors = ['C'+str(i) for i in range(10)]"
   ]
  },
  {
   "cell_type": "code",
   "execution_count": null,
   "id": "da9b55f2",
   "metadata": {},
   "outputs": [],
   "source": [
    "np.random.choice(colors)"
   ]
  },
  {
   "cell_type": "code",
   "execution_count": null,
   "id": "50cb89db",
   "metadata": {},
   "outputs": [],
   "source": [
    "def show_random_image(loader, idx=None):\n",
    "    colors = ['C'+str(i) for i in range(10)]\n",
    "    n = len(loader.dataset)\n",
    "    \n",
    "    if idx is None:\n",
    "        idx = np.random.randint(0, n)\n",
    "        image, label = loader.dataset.__getitem__(idx)\n",
    "    else:\n",
    "        image, label = loader.dataset.__getitem__(idx)\n",
    "\n",
    "    fig, ax = plt.subplots(figsize = (21,14))\n",
    "    ax.imshow(image)\n",
    "\n",
    "    idx = 0\n",
    "    for i in label['labels']:\n",
    "        #print(idx)\n",
    "        idx += 1\n",
    "        try:\n",
    "            x1 = i['box2d']['x1']\n",
    "            x2 = i['box2d']['x2']\n",
    "            y1 = i['box2d']['y1']\n",
    "            y2 = i['box2d']['y2']\n",
    "\n",
    "            #print(x1, y1, x2, y2)\n",
    "\n",
    "            x = x1\n",
    "            y = y2\n",
    "            w = x2 - x1\n",
    "            h = y1 - y2\n",
    "\n",
    "            # plt.plot(x1, y1, marker='v', color=\"white\")\n",
    "            # plt.plot(x2, y2, marker='v', color=\"white\")\n",
    "            color = np.random.choice(colors)\n",
    "            ax.add_patch(Rectangle((x,y), w, h, linewidth=1.5, edgecolor=color, facecolor='none'))\n",
    "\n",
    "            cat = i['category']\n",
    "            ax.text(x, y1-12, cat, verticalalignment='top', color='white', fontsize=11)\n",
    "        except:\n",
    "            continue\n",
    "#plt.show()\n",
    "\n",
    "show_random_image(loader)"
   ]
  },
  {
   "cell_type": "code",
   "execution_count": null,
   "id": "94a0b31b",
   "metadata": {},
   "outputs": [],
   "source": [
    "len(label['labels'])"
   ]
  },
  {
   "cell_type": "code",
   "execution_count": null,
   "id": "2ad5f76e",
   "metadata": {},
   "outputs": [],
   "source": [
    "type(label['labels'])"
   ]
  },
  {
   "cell_type": "code",
   "execution_count": null,
   "id": "b7471ca6",
   "metadata": {},
   "outputs": [],
   "source": [
    "label['labels'][0]['category']"
   ]
  },
  {
   "cell_type": "code",
   "execution_count": null,
   "id": "cbe08225",
   "metadata": {},
   "outputs": [],
   "source": [
    "# label"
   ]
  },
  {
   "cell_type": "code",
   "execution_count": null,
   "id": "f93bc9eb",
   "metadata": {},
   "outputs": [],
   "source": [
    "image.size"
   ]
  },
  {
   "cell_type": "code",
   "execution_count": null,
   "id": "694f234e",
   "metadata": {},
   "outputs": [],
   "source": [
    "plt.figure(figsize=(25,15))\n",
    "colors = ['C'+str(i) for i in range(10)]\n",
    "for i in range(4):\n",
    "    plt.subplot(2,2,i+1)\n",
    "    plt.xticks([])\n",
    "    plt.yticks([])\n",
    "    plt.grid(False)\n",
    "    idx = np.random.randint(0, len(loader.dataset))\n",
    "    image, label = loader.dataset.__getitem__(idx)\n",
    "    for i in label['labels']:\n",
    "        #print(idx)\n",
    "        idx += 1\n",
    "        try:\n",
    "            x1 = i['box2d']['x1']\n",
    "            x2 = i['box2d']['x2']\n",
    "            y1 = i['box2d']['y1']\n",
    "            y2 = i['box2d']['y2']\n",
    "\n",
    "            #print(x1, y1, x2, y2)\n",
    "\n",
    "            x = x1\n",
    "            y = y2\n",
    "            w = x2 - x1\n",
    "            h = y1 - y2\n",
    "\n",
    "            # plt.plot(x1, y1, marker='v', color=\"white\")\n",
    "            # plt.plot(x2, y2, marker='v', color=\"white\")\n",
    "            color = np.random.choice(colors)\n",
    "            plt.gca().add_patch(Rectangle((x,y),w,h,linewidth=1,edgecolor=color,facecolor='none'))\n",
    "\n",
    "            cat = i['category']\n",
    "\n",
    "            plt.gca().text(x,y1-20,cat,verticalalignment='top',color='white',fontsize=11)\n",
    "        except:\n",
    "            continue\n",
    "    plt.imshow(image)\n",
    "    #plt.xlabel(class_names[train_labels[i]])\n",
    "    plt.tight_layout\n",
    "plt.show()"
   ]
  },
  {
   "cell_type": "markdown",
   "id": "9279b0ce",
   "metadata": {},
   "source": [
    "# Trash Bin"
   ]
  },
  {
   "cell_type": "code",
   "execution_count": null,
   "id": "e48ab513",
   "metadata": {},
   "outputs": [],
   "source": [
    "# def load_json(f):\n",
    "#     with open(f, 'r') as fp:\n",
    "#         return json.load(fp)\n",
    "\n",
    "\n",
    "# def save_json(obj, f, *args, **kwargs):\n",
    "#     with open(f, 'w') as fp:\n",
    "#         json.dump(obj, fp, *args, **kwargs)\n",
    "\n",
    "\n",
    "# class BDDDataset(Dataset):\n",
    "#     def __init__(self, root, train=True, transform=None):\n",
    "#         self.root = root\n",
    "#         self.train = train\n",
    "#         self.transform = transform\n",
    "#         self.samples = None\n",
    "#         self.prepare()\n",
    "\n",
    "#     def prepare(self):\n",
    "#         self.samples = []\n",
    "#         if self.train:\n",
    "#             label_paths = glob.glob(\n",
    "#                 os.path.join(self.root, 'labels/train/*.json'))[:10000]\n",
    "#             image_dir = os.path.join(self.root, 'images/100k/train')\n",
    "#         else:\n",
    "#             label_paths = glob.glob(\n",
    "#                 os.path.join(self.root, 'labels/val/*.json'))\n",
    "#             image_dir = os.path.join(self.root, 'images/100k/val')\n",
    "\n",
    "#         for label_path in label_paths:\n",
    "#             image_path = os.path.join(\n",
    "#                 image_dir,\n",
    "#                 os.path.basename(label_path).replace('.json', '.jpg'))\n",
    "#             if os.path.exists(image_path):\n",
    "#                 self.samples.append((image_path, label_path))\n",
    "\n",
    "#     def __getitem__(self, index):\n",
    "#         # TODO: handle label dict\n",
    "#         image_path, label_path = self.samples[index]\n",
    "#         image = pil_loader(image_path)\n",
    "#         label = load_json(label_path)\n",
    "#         if self.transform is not None:\n",
    "#             image = self.transform(image)\n",
    "#         return image, label\n",
    "\n",
    "#     def __len__(self):\n",
    "#         return len(self.samples)"
   ]
  },
  {
   "cell_type": "code",
   "execution_count": null,
   "id": "21d3fd8d",
   "metadata": {},
   "outputs": [],
   "source": [
    "# import glob\n",
    "# import os\n",
    "\n",
    "# root = 'data/bdd100k'\n",
    "\n",
    "# label_paths = glob.glob(\n",
    "#     os.path.join(root, 'labels/train/*.json'))\n",
    "# image_dir = os.path.join(root, 'images/100k/train')\n",
    "\n",
    "# samples = []\n",
    "# for label_path in label_paths:\n",
    "#     image_path = os.path.join(\n",
    "#         image_dir,\n",
    "#         os.path.basename(label_path).replace('.json', '.jpg'))\n",
    "#     if os.path.exists(image_path):\n",
    "#         samples.append((image_path, label_path))\n",
    "\n",
    "# index = 0\n",
    "# image_path, label_path = samples[index]\n",
    "\n",
    "# image = pil_loader(image_path)\n",
    "# label = load_json(label_path)\n",
    "\n",
    "# if transform is not None:\n",
    "#     image = transform(image)"
   ]
  },
  {
   "cell_type": "code",
   "execution_count": null,
   "id": "ca950bdf",
   "metadata": {},
   "outputs": [],
   "source": [
    "# len(samples)\n",
    "\n",
    "# samples[0]\n",
    "\n",
    "# len(samples)"
   ]
  }
 ],
 "metadata": {
  "kernelspec": {
   "display_name": "conda_pytorch_latest_p37",
   "language": "python",
   "name": "conda_pytorch_latest_p37"
  },
  "language_info": {
   "codemirror_mode": {
    "name": "ipython",
    "version": 3
   },
   "file_extension": ".py",
   "mimetype": "text/x-python",
   "name": "python",
   "nbconvert_exporter": "python",
   "pygments_lexer": "ipython3",
   "version": "3.7.12"
  }
 },
 "nbformat": 4,
 "nbformat_minor": 5
}
